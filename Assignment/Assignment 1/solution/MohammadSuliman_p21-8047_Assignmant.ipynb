{
  "cells": [
    {
      "cell_type": "code",
      "source": [
        "import os"
      ],
      "metadata": {
        "id": "PJq584Fjf2cF"
      },
      "execution_count": 2,
      "outputs": []
    },
    {
      "cell_type": "code",
      "source": [
        "from google.colab import drive"
      ],
      "metadata": {
        "id": "K3rDRN_Cfy4X"
      },
      "execution_count": 5,
      "outputs": []
    },
    {
      "cell_type": "code",
      "source": [
        "drive.mount('/content/drive')"
      ],
      "metadata": {
        "colab": {
          "base_uri": "https://localhost:8080/"
        },
        "id": "PNNKeelUlRQH",
        "outputId": "a97b575c-a9c5-4b2b-d06c-5f13c81a598e"
      },
      "execution_count": 6,
      "outputs": [
        {
          "output_type": "stream",
          "name": "stdout",
          "text": [
            "Mounted at /content/drive\n"
          ]
        }
      ]
    },
    {
      "cell_type": "code",
      "execution_count": 9,
      "metadata": {
        "id": "P1y44jcjfnj9"
      },
      "outputs": [],
      "source": [
        "\n",
        "\n",
        "def count_words(text):\n",
        "    # count the number of words in the text\n",
        "    words=text.split()\n",
        "    return len(words)\n"
      ]
    },
    {
      "cell_type": "code",
      "execution_count": 10,
      "metadata": {
        "id": "L4RTvNz7fnkM"
      },
      "outputs": [],
      "source": [
        "def count_charcter(text):\n",
        "    count = 0\n",
        "    for i in text:\n",
        "        if i.isalnum():\n",
        "            count=count+1\n",
        "    return count\n"
      ]
    },
    {
      "cell_type": "code",
      "source": [
        "def count_sentences(text):\n",
        "    # Count the number of sentences in the text\n",
        "    sentence_endings = ['.', '!', '?', ':', ';']\n",
        "    count = 0\n",
        "    for char in text:\n",
        "        if char in sentence_endings:\n",
        "            count += 1\n",
        "    if count == 0:  # If no sentence endings found, assume one sentence\n",
        "        count = 1\n",
        "    return count"
      ],
      "metadata": {
        "id": "3Fc6BQiBg9he"
      },
      "execution_count": 11,
      "outputs": []
    },
    {
      "cell_type": "code",
      "execution_count": 21,
      "metadata": {
        "id": "06_VjcUcfnkj"
      },
      "outputs": [],
      "source": [
        "def calculate_ARI(characters, words, sentences):\n",
        "    # Calculate the readability index using the provided formula\n",
        "    index = 4.71 * (characters/words) + 0.5 * (words/sentences) - 21.43\n",
        "    if index < 0:\n",
        "      return 0\n",
        "    return round(index)"
      ]
    },
    {
      "cell_type": "code",
      "source": [
        "def process_text_file(file_path):\n",
        "    # Read text from file\n",
        "    with open(file_path, 'r') as file:\n",
        "        text = file.read()\n",
        "\n",
        "    # Count sentences, words, and characters\n",
        "    num_sentences = count_sentences(text)\n",
        "    num_words = count_words(text)\n",
        "    num_characters = count_charcter(text)\n",
        "\n",
        "    # Calculate readability index\n",
        "    readability_index = calculate_ARI(num_characters, num_words, num_sentences)\n",
        "\n",
        "    # Print results\n",
        "    print(\"Text File:\", file_path)\n",
        "    print(\"Number of sentences:\", num_sentences)\n",
        "    print(\"Number of words:\", num_words)\n",
        "    print(\"Number of characters:\", num_characters)\n",
        "    print(\"Readability index:\", readability_index)\n",
        "    print()\n"
      ],
      "metadata": {
        "id": "_GqFcR80goqV"
      },
      "execution_count": 13,
      "outputs": []
    },
    {
      "cell_type": "code",
      "source": [
        "from glob import glob\n",
        "file1_paths = glob('/content/drive/MyDrive/text-file-1.txt', recursive=True)\n",
        "file2_paths = glob('/content/drive/MyDrive/text-file-2.txt', recursive=True)\n",
        "file3_paths = glob('/content/drive/MyDrive/text-file-3.txt', recursive=True)\n"
      ],
      "metadata": {
        "id": "zwjLtGOUmOj_"
      },
      "execution_count": 17,
      "outputs": []
    },
    {
      "cell_type": "code",
      "source": [
        "#For 1st file (x1.txt)\n",
        "# Check if file_paths is empty (i.e., file not found)\n",
        "if not file1_paths:\n",
        "    print(\"File not found.\")\n",
        "else:\n",
        "    # Process the first text file found\n",
        "    file1_path = file1_paths[0]\n",
        "    process_text_file(file1_path)\n",
        "\n",
        "print(\"----------------------------\")\n",
        "\n",
        "#For 2nd file (x2.txt)\n",
        "\n",
        "if not file2_paths:\n",
        "    print(\"File not found.\")\n",
        "else:\n",
        "    # Process the first text file found\n",
        "    file2_path = file2_paths[0]\n",
        "    process_text_file(file2_path)\n",
        "\n",
        "#For 3nd file (x3.txt)\n",
        "\n",
        "if not file3_paths:\n",
        "    print(\"File not found.\")\n",
        "else:\n",
        "    # Process the first text file found\n",
        "    file3_path = file3_paths[0]\n",
        "    process_text_file(file3_path)"
      ],
      "metadata": {
        "colab": {
          "base_uri": "https://localhost:8080/"
        },
        "id": "tIozNhdNm5b8",
        "outputId": "509fa691-8997-42ab-9fc1-f75261f5e301"
      },
      "execution_count": 22,
      "outputs": [
        {
          "output_type": "stream",
          "name": "stdout",
          "text": [
            "Text File: /content/drive/MyDrive/text-file-1.txt\n",
            "Number of sentences: 2\n",
            "Number of words: 7\n",
            "Number of characters: 23\n",
            "Readability index: 0\n",
            "\n",
            "----------------------------\n",
            "Text File: /content/drive/MyDrive/text-file-2.txt\n",
            "Number of sentences: 3\n",
            "Number of words: 31\n",
            "Number of characters: 126\n",
            "Readability index: 3\n",
            "\n",
            "Text File: /content/drive/MyDrive/text-file-3.txt\n",
            "Number of sentences: 3\n",
            "Number of words: 125\n",
            "Number of characters: 499\n",
            "Readability index: 18\n",
            "\n"
          ]
        }
      ]
    },
    {
      "cell_type": "code",
      "source": [],
      "metadata": {
        "id": "YyHq_FVrgVLe"
      },
      "execution_count": 19,
      "outputs": []
    }
  ],
  "metadata": {
    "kernelspec": {
      "display_name": "Python 3",
      "language": "python",
      "name": "python3"
    },
    "language_info": {
      "codemirror_mode": {
        "name": "ipython",
        "version": 3
      },
      "file_extension": ".py",
      "mimetype": "text/x-python",
      "name": "python",
      "nbconvert_exporter": "python",
      "pygments_lexer": "ipython3",
      "version": "3.11.7"
    },
    "colab": {
      "provenance": []
    }
  },
  "nbformat": 4,
  "nbformat_minor": 0
}